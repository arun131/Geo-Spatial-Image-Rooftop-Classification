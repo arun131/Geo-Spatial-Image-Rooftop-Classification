{
 "cells": [
  {
   "cell_type": "code",
   "execution_count": 22,
   "id": "9522b0ae",
   "metadata": {},
   "outputs": [],
   "source": [
    "import keras\n",
    "from keras.models import Sequential\n",
    "from keras.layers import Dense, Dropout, Flatten\n",
    "from keras.layers import Conv2D, MaxPooling2D\n",
    "from keras.preprocessing import image\n",
    "import numpy as np\n",
    "import pandas as pd\n",
    "import matplotlib.pyplot as plt\n",
    "from sklearn.model_selection import train_test_split\n",
    "from tqdm import tqdm\n",
    "import glob\n",
    "from keras.layers import BatchNormalization"
   ]
  },
  {
   "cell_type": "code",
   "execution_count": 8,
   "id": "b2231de9",
   "metadata": {},
   "outputs": [
    {
     "data": {
      "text/html": [
       "<div>\n",
       "<style scoped>\n",
       "    .dataframe tbody tr th:only-of-type {\n",
       "        vertical-align: middle;\n",
       "    }\n",
       "\n",
       "    .dataframe tbody tr th {\n",
       "        vertical-align: top;\n",
       "    }\n",
       "\n",
       "    .dataframe thead th {\n",
       "        text-align: right;\n",
       "    }\n",
       "</style>\n",
       "<table border=\"1\" class=\"dataframe\">\n",
       "  <thead>\n",
       "    <tr style=\"text-align: right;\">\n",
       "      <th></th>\n",
       "      <th>Roof_T</th>\n",
       "      <th>Roof_C1</th>\n",
       "      <th>geometry</th>\n",
       "    </tr>\n",
       "  </thead>\n",
       "  <tbody>\n",
       "    <tr>\n",
       "      <th>0</th>\n",
       "      <td>Gable</td>\n",
       "      <td>Good</td>\n",
       "      <td>POLYGON ((-10834917.921 3846233.887000002, -10...</td>\n",
       "    </tr>\n",
       "    <tr>\n",
       "      <th>1</th>\n",
       "      <td>Mix</td>\n",
       "      <td>Good</td>\n",
       "      <td>POLYGON ((-10834844.8473 3846502.442400008, -1...</td>\n",
       "    </tr>\n",
       "    <tr>\n",
       "      <th>2</th>\n",
       "      <td>Gable</td>\n",
       "      <td>Good</td>\n",
       "      <td>POLYGON ((-10834617.17254094 3846911.695702523...</td>\n",
       "    </tr>\n",
       "    <tr>\n",
       "      <th>3</th>\n",
       "      <td>Gable</td>\n",
       "      <td>Good</td>\n",
       "      <td>POLYGON ((-10834863.422 3846169.272, -10834848...</td>\n",
       "    </tr>\n",
       "    <tr>\n",
       "      <th>4</th>\n",
       "      <td>Flat</td>\n",
       "      <td>Good</td>\n",
       "      <td>POLYGON ((-10834869.107 3846218.079800002, -10...</td>\n",
       "    </tr>\n",
       "  </tbody>\n",
       "</table>\n",
       "</div>"
      ],
      "text/plain": [
       "  Roof_T Roof_C1                                           geometry\n",
       "0  Gable    Good  POLYGON ((-10834917.921 3846233.887000002, -10...\n",
       "1    Mix    Good  POLYGON ((-10834844.8473 3846502.442400008, -1...\n",
       "2  Gable    Good  POLYGON ((-10834617.17254094 3846911.695702523...\n",
       "3  Gable    Good  POLYGON ((-10834863.422 3846169.272, -10834848...\n",
       "4   Flat    Good  POLYGON ((-10834869.107 3846218.079800002, -10..."
      ]
     },
     "execution_count": 8,
     "metadata": {},
     "output_type": "execute_result"
    }
   ],
   "source": [
    "# get the image directory\n",
    "image_directory = r'Images\\images\\\\'\n",
    "# read metadata to get our Y values (multiple lables)\n",
    "df = pd.read_csv('MetaData.csv').iloc[:,1:]    \n",
    "df.head()    \n"
   ]
  },
  {
   "cell_type": "code",
   "execution_count": 47,
   "id": "87b4f8eb",
   "metadata": {},
   "outputs": [],
   "source": [
    "labels=pd.get_dummies(df.Roof_T)\n",
    "#labels2=pd.get_dummies(df.Roof_C1)"
   ]
  },
  {
   "cell_type": "code",
   "execution_count": 48,
   "id": "259c4535",
   "metadata": {},
   "outputs": [],
   "source": [
    "#labels=pd.concat([labels,labels2],axis=1)\n",
    "Classes=labels.columns\n",
    "Y_Targets=labels.to_numpy()"
   ]
  },
  {
   "cell_type": "code",
   "execution_count": 50,
   "id": "c7e137eb",
   "metadata": {},
   "outputs": [
    {
     "name": "stdout",
     "output_type": "stream",
     "text": [
      "Index(['Flat', 'Gable', 'Hip', 'Mix'], dtype='object')\n"
     ]
    }
   ],
   "source": [
    "print(Classes)"
   ]
  },
  {
   "cell_type": "code",
   "execution_count": 51,
   "id": "ed20761a",
   "metadata": {},
   "outputs": [],
   "source": [
    "# get all file paths\n",
    "file_paths=glob.glob(image_directory+\"\\\\*.jpg\")"
   ]
  },
  {
   "cell_type": "code",
   "execution_count": 52,
   "id": "e6bdf55c",
   "metadata": {},
   "outputs": [
    {
     "name": "stderr",
     "output_type": "stream",
     "text": [
      "100%|███████████████████████████████████████████████████████████████████████████████| 437/437 [00:00<00:00, 538.92it/s]\n"
     ]
    }
   ],
   "source": [
    "# load images\n",
    "SIZE = 200 #pixels\n",
    "X_dataset = []  \n",
    "for file in tqdm(file_paths):\n",
    "    img = image.load_img(file, target_size=(SIZE,SIZE,3))\n",
    "    img = image.img_to_array(img)\n",
    "    img = img/255.\n",
    "    X_dataset.append(img)"
   ]
  },
  {
   "cell_type": "code",
   "execution_count": 53,
   "id": "a897a0e5",
   "metadata": {},
   "outputs": [],
   "source": [
    "#Convert to numpy\n",
    "X = np.array(X_dataset)\n"
   ]
  },
  {
   "cell_type": "code",
   "execution_count": 54,
   "id": "a0b68b17",
   "metadata": {},
   "outputs": [],
   "source": [
    "# train test split\n",
    "X_train, X_test, y_train, y_test = train_test_split(X, Y_Targets, test_size=0.15)\n"
   ]
  },
  {
   "cell_type": "code",
   "execution_count": 56,
   "id": "310bf993",
   "metadata": {},
   "outputs": [
    {
     "name": "stdout",
     "output_type": "stream",
     "text": [
      "Model: \"sequential_3\"\n",
      "_________________________________________________________________\n",
      "Layer (type)                 Output Shape              Param #   \n",
      "=================================================================\n",
      "conv2d_12 (Conv2D)           (None, 196, 196, 16)      1216      \n",
      "_________________________________________________________________\n",
      "batch_normalization_12 (Batc (None, 196, 196, 16)      64        \n",
      "_________________________________________________________________\n",
      "max_pooling2d_12 (MaxPooling (None, 98, 98, 16)        0         \n",
      "_________________________________________________________________\n",
      "dropout_18 (Dropout)         (None, 98, 98, 16)        0         \n",
      "_________________________________________________________________\n",
      "conv2d_13 (Conv2D)           (None, 94, 94, 32)        12832     \n",
      "_________________________________________________________________\n",
      "max_pooling2d_13 (MaxPooling (None, 47, 47, 32)        0         \n",
      "_________________________________________________________________\n",
      "batch_normalization_13 (Batc (None, 47, 47, 32)        128       \n",
      "_________________________________________________________________\n",
      "dropout_19 (Dropout)         (None, 47, 47, 32)        0         \n",
      "_________________________________________________________________\n",
      "conv2d_14 (Conv2D)           (None, 43, 43, 64)        51264     \n",
      "_________________________________________________________________\n",
      "max_pooling2d_14 (MaxPooling (None, 21, 21, 64)        0         \n",
      "_________________________________________________________________\n",
      "batch_normalization_14 (Batc (None, 21, 21, 64)        256       \n",
      "_________________________________________________________________\n",
      "dropout_20 (Dropout)         (None, 21, 21, 64)        0         \n",
      "_________________________________________________________________\n",
      "conv2d_15 (Conv2D)           (None, 17, 17, 64)        102464    \n",
      "_________________________________________________________________\n",
      "max_pooling2d_15 (MaxPooling (None, 8, 8, 64)          0         \n",
      "_________________________________________________________________\n",
      "batch_normalization_15 (Batc (None, 8, 8, 64)          256       \n",
      "_________________________________________________________________\n",
      "dropout_21 (Dropout)         (None, 8, 8, 64)          0         \n",
      "_________________________________________________________________\n",
      "flatten_3 (Flatten)          (None, 4096)              0         \n",
      "_________________________________________________________________\n",
      "dense_9 (Dense)              (None, 128)               524416    \n",
      "_________________________________________________________________\n",
      "dropout_22 (Dropout)         (None, 128)               0         \n",
      "_________________________________________________________________\n",
      "dense_10 (Dense)             (None, 64)                8256      \n",
      "_________________________________________________________________\n",
      "dropout_23 (Dropout)         (None, 64)                0         \n",
      "_________________________________________________________________\n",
      "dense_11 (Dense)             (None, 4)                 260       \n",
      "=================================================================\n",
      "Total params: 701,412\n",
      "Trainable params: 701,060\n",
      "Non-trainable params: 352\n",
      "_________________________________________________________________\n"
     ]
    }
   ],
   "source": [
    "model = Sequential()\n",
    "\n",
    "model.add(Conv2D(filters=16, kernel_size=(5, 5), activation=\"relu\", input_shape=(SIZE,SIZE,3)))\n",
    "model.add(BatchNormalization())\n",
    "model.add(MaxPooling2D(pool_size=(2, 2)))\n",
    "model.add(Dropout(0.2))\n",
    "\n",
    "model.add(Conv2D(filters=32, kernel_size=(5, 5), activation='relu'))\n",
    "model.add(MaxPooling2D(pool_size=(2, 2)))\n",
    "model.add(BatchNormalization())\n",
    "model.add(Dropout(0.2))\n",
    "\n",
    "model.add(Conv2D(filters=64, kernel_size=(5, 5), activation=\"relu\"))\n",
    "model.add(MaxPooling2D(pool_size=(2, 2)))\n",
    "model.add(BatchNormalization())\n",
    "model.add(Dropout(0.2))\n",
    "\n",
    "model.add(Conv2D(filters=64, kernel_size=(5, 5), activation='relu'))\n",
    "model.add(MaxPooling2D(pool_size=(2, 2)))\n",
    "model.add(BatchNormalization())\n",
    "model.add(Dropout(0.2))\n",
    "\n",
    "model.add(Flatten())\n",
    "model.add(Dense(128, activation='relu'))\n",
    "model.add(Dropout(0.5))\n",
    "model.add(Dense(64, activation='relu'))\n",
    "model.add(Dropout(0.5))\n",
    "model.add(Dense(Y_Targets.shape[1], activation='softmax'))\n",
    "\n",
    "#Do not use softmax for multilabel classification\n",
    "\n",
    "model.summary()\n",
    "\n",
    "#Binary cross entropy of each label. So not really a binary classification problem but\n",
    "#Calculating binary cross entropy for each label. \n",
    "model.compile(optimizer='adam', loss='CategoricalCrossentropy', metrics=['accuracy'])"
   ]
  },
  {
   "cell_type": "code",
   "execution_count": 57,
   "id": "07c98e73",
   "metadata": {},
   "outputs": [
    {
     "name": "stdout",
     "output_type": "stream",
     "text": [
      "Epoch 1/20\n",
      "13/13 [==============================] - 18s 1s/step - loss: 1.5253 - accuracy: 0.5499 - val_loss: 1.0465 - val_accuracy: 0.8030\n",
      "Epoch 2/20\n",
      "13/13 [==============================] - 19s 1s/step - loss: 0.9579 - accuracy: 0.6712 - val_loss: 0.7642 - val_accuracy: 0.8030\n",
      "Epoch 3/20\n",
      "13/13 [==============================] - 18s 1s/step - loss: 1.0232 - accuracy: 0.6712 - val_loss: 0.7018 - val_accuracy: 0.8030\n",
      "Epoch 4/20\n",
      "13/13 [==============================] - 20s 2s/step - loss: 0.9631 - accuracy: 0.7008 - val_loss: 0.8262 - val_accuracy: 0.8030\n",
      "Epoch 5/20\n",
      "13/13 [==============================] - 20s 2s/step - loss: 0.8047 - accuracy: 0.7574 - val_loss: 0.9012 - val_accuracy: 0.8030\n",
      "Epoch 6/20\n",
      "13/13 [==============================] - 19s 1s/step - loss: 0.8048 - accuracy: 0.7709 - val_loss: 0.9113 - val_accuracy: 0.8030\n",
      "Epoch 7/20\n",
      "13/13 [==============================] - 19s 1s/step - loss: 0.8271 - accuracy: 0.7601 - val_loss: 1.0704 - val_accuracy: 0.8030\n",
      "Epoch 8/20\n",
      "13/13 [==============================] - 19s 1s/step - loss: 0.9627 - accuracy: 0.7655 - val_loss: 1.1617 - val_accuracy: 0.8030\n",
      "Epoch 9/20\n",
      "13/13 [==============================] - 19s 1s/step - loss: 0.8357 - accuracy: 0.7736 - val_loss: 0.9087 - val_accuracy: 0.8030\n",
      "Epoch 10/20\n",
      "13/13 [==============================] - 19s 1s/step - loss: 0.8205 - accuracy: 0.7628 - val_loss: 0.9116 - val_accuracy: 0.8030\n",
      "Epoch 11/20\n",
      "13/13 [==============================] - 19s 1s/step - loss: 0.8393 - accuracy: 0.7871 - val_loss: 1.0343 - val_accuracy: 0.8030\n",
      "Epoch 12/20\n",
      "13/13 [==============================] - 19s 1s/step - loss: 0.7720 - accuracy: 0.7978 - val_loss: 1.0909 - val_accuracy: 0.8030\n",
      "Epoch 13/20\n",
      "13/13 [==============================] - 19s 1s/step - loss: 0.7920 - accuracy: 0.7574 - val_loss: 0.8961 - val_accuracy: 0.8030\n",
      "Epoch 14/20\n",
      "13/13 [==============================] - 19s 2s/step - loss: 0.7368 - accuracy: 0.7925 - val_loss: 0.8573 - val_accuracy: 0.8030\n",
      "Epoch 15/20\n",
      "13/13 [==============================] - 19s 1s/step - loss: 0.7212 - accuracy: 0.7898 - val_loss: 0.8152 - val_accuracy: 0.8030\n",
      "Epoch 16/20\n",
      "13/13 [==============================] - 19s 1s/step - loss: 0.7742 - accuracy: 0.7844 - val_loss: 0.9078 - val_accuracy: 0.8030\n",
      "Epoch 17/20\n",
      "13/13 [==============================] - 20s 2s/step - loss: 0.7655 - accuracy: 0.7898 - val_loss: 0.7471 - val_accuracy: 0.8030\n",
      "Epoch 18/20\n",
      "13/13 [==============================] - 19s 1s/step - loss: 0.7625 - accuracy: 0.7978 - val_loss: 0.7301 - val_accuracy: 0.8030\n",
      "Epoch 19/20\n",
      "13/13 [==============================] - 19s 1s/step - loss: 0.7007 - accuracy: 0.8140 - val_loss: 0.7588 - val_accuracy: 0.8030\n",
      "Epoch 20/20\n",
      "13/13 [==============================] - 20s 2s/step - loss: 0.7311 - accuracy: 0.8032 - val_loss: 0.7485 - val_accuracy: 0.8030\n"
     ]
    }
   ],
   "source": [
    "history = model.fit(X_train, y_train, epochs=20, validation_data=(X_test, y_test), batch_size=30)\n"
   ]
  },
  {
   "cell_type": "code",
   "execution_count": 60,
   "id": "3d456a77",
   "metadata": {},
   "outputs": [
    {
     "data": {
      "image/png": "[encoded data removed]",
      "text/plain": [
       "<Figure size 432x288 with 1 Axes>"
      ]
     },
     "metadata": {
      "needs_background": "light"
     },
     "output_type": "display_data"
    },
    {
     "data": {
      "image/png": "[encoded data removed]",
      "text/plain": [
       "<Figure size 432x288 with 1 Axes>"
      ]
     },
     "metadata": {
      "needs_background": "light"
     },
     "output_type": "display_data"
    }
   ],
   "source": [
    "loss = history.history['loss']\n",
    "val_loss = history.history['val_loss']\n",
    "epochs = range(1, len(loss) + 1)\n",
    "plt.plot(epochs, loss, 'y', label='Training loss')\n",
    "plt.plot(epochs, val_loss, 'r', label='Validation loss')\n",
    "plt.title('Training and validation loss')\n",
    "plt.xlabel('Epochs')\n",
    "plt.ylabel('Loss')\n",
    "plt.legend()\n",
    "plt.show()\n",
    "\n",
    "\n",
    "acc = history.history['accuracy']\n",
    "val_acc = history.history['val_accuracy']\n",
    "plt.plot(epochs, acc, 'y', label='Training acc')\n",
    "plt.plot(epochs, val_acc, 'r', label='Validation acc')\n",
    "plt.title('Training and validation accuracy')\n",
    "plt.xlabel('Epochs')\n",
    "plt.ylabel('Accuracy')\n",
    "plt.legend()\n",
    "plt.show()"
   ]
  },
  {
   "cell_type": "code",
   "execution_count": 61,
   "id": "5e6ed242",
   "metadata": {},
   "outputs": [
    {
     "name": "stdout",
     "output_type": "stream",
     "text": [
      "INFO:tensorflow:Assets written to: TrainedModel.hp5\\assets\n"
     ]
    }
   ],
   "source": [
    "model.save(\"TrainedModel.hp5\")"
   ]
  },
  {
   "cell_type": "code",
   "execution_count": 100,
   "id": "6febc04d",
   "metadata": {},
   "outputs": [],
   "source": [
    "Tmodel=keras.models.load_model(\"TrainedModel.hp5\")"
   ]
  },
  {
   "cell_type": "code",
   "execution_count": 145,
   "id": "696b934f",
   "metadata": {},
   "outputs": [],
   "source": [
    "preds=Tmodel.predict(X_test)"
   ]
  },
  {
   "cell_type": "code",
   "execution_count": 144,
   "id": "e0f9b569",
   "metadata": {},
   "outputs": [
    {
     "data": {
      "text/plain": [
       "<matplotlib.image.AxesImage at 0x20760bd8430>"
      ]
     },
     "execution_count": 144,
     "metadata": {},
     "output_type": "execute_result"
    },
    {
     "data": {
      "image/png": "[encoded data removed]",
      "text/plain": [
       "<Figure size 432x288 with 1 Axes>"
      ]
     },
     "metadata": {
      "needs_background": "light"
     },
     "output_type": "display_data"
    }
   ],
   "source": [
    "plt.imshow(X_test[2])"
   ]
  },
  {
   "cell_type": "code",
   "execution_count": 147,
   "id": "aaa28101",
   "metadata": {},
   "outputs": [],
   "source": [
    "for i in range(preds.shape[0]):\n",
    "    for l in range(preds.shape[1]):\n",
    "        if preds[i][l]>0.65 or preds[i][l]<0.3:\n",
    "            preds[i][l]=round(preds[i][l])\n",
    "sum_idx=[]\n",
    "for idx,val in enumerate(preds):\n",
    "    if not val.sum()==1.0:\n",
    "        sum_idx.append(idx)"
   ]
  },
  {
   "cell_type": "code",
   "execution_count": 148,
   "id": "74203674",
   "metadata": {},
   "outputs": [
    {
     "data": {
      "text/plain": [
       "[6, 7, 16, 24, 26, 36, 43, 46, 47, 48, 60, 61]"
      ]
     },
     "execution_count": 148,
     "metadata": {},
     "output_type": "execute_result"
    }
   ],
   "source": [
    "sum_idx"
   ]
  },
  {
   "cell_type": "code",
   "execution_count": 149,
   "id": "4d3da748",
   "metadata": {},
   "outputs": [
    {
     "name": "stdout",
     "output_type": "stream",
     "text": [
      "Flat=\t0\n",
      "Gable=\t1\n",
      "Hip=\t2\n",
      "Mix=\t3\n"
     ]
    },
    {
     "data": {
      "image/png": "[encoded data removed]",
      "text/plain": [
       "<Figure size 432x288 with 1 Axes>"
      ]
     },
     "metadata": {
      "needs_background": "light"
     },
     "output_type": "display_data"
    },
    {
     "name": "stdout",
     "output_type": "stream",
     "text": [
      "\n",
      "Label this Manually?:1\n"
     ]
    }
   ],
   "source": [
    "from IPython.display import clear_output\n",
    "for val in sum_idx:\n",
    "    dummy=np.array([0,0,0,0])\n",
    "    [print(f\"{val}=\\t{idx}\") for idx,val in enumerate(Classes)];\n",
    "    plt.imshow(X_test[val])\n",
    "    plt.show()\n",
    "    inp=int(input(f\"\\nLabel this Manually?:\"))\n",
    "\n",
    "    while not inp in {0,1,2,3}:\n",
    "        inp=int(input(f\"\\nLabel This Manually?:\"))\n",
    "    dummy[inp]=1\n",
    "    preds[val]=dummy\n",
    "    clear_output(wait=True)"
   ]
  },
  {
   "cell_type": "code",
   "execution_count": 150,
   "id": "05d32ddd",
   "metadata": {},
   "outputs": [],
   "source": [
    "pred_classes=[Classes[val] for val in np.argmax(preds,axis=1)]"
   ]
  },
  {
   "cell_type": "code",
   "execution_count": 153,
   "id": "6bf02747",
   "metadata": {},
   "outputs": [
    {
     "data": {
      "text/plain": [
       "Gable    354\n",
       "Mix       47\n",
       "Hip       29\n",
       "Flat       7\n",
       "Name: Roof_T, dtype: int64"
      ]
     },
     "execution_count": 153,
     "metadata": {},
     "output_type": "execute_result"
    }
   ],
   "source": [
    "df.Roof_T.value_counts()"
   ]
  },
  {
   "cell_type": "code",
   "execution_count": null,
   "id": "7bada652",
   "metadata": {},
   "outputs": [],
   "source": []
  }
 ],
 "metadata": {
  "kernelspec": {
   "display_name": "Python 3",
   "language": "python",
   "name": "python3"
  },
  "language_info": {
   "codemirror_mode": {
    "name": "ipython",
    "version": 3
   },
   "file_extension": ".py",
   "mimetype": "text/x-python",
   "name": "python",
   "nbconvert_exporter": "python",
   "pygments_lexer": "ipython3",
   "version": "3.8.8"
  }
 },
 "nbformat": 4,
 "nbformat_minor": 5
}
